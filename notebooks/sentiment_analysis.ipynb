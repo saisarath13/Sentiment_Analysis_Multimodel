{
 "cells": [
  {
   "cell_type": "markdown",
   "metadata": {},
   "source": [
    "# Sentiment Analysis Multimodel Project\n",
    "\n",
    "This notebook demonstrates a sentiment analysis pipeline using multiple models, including SVM, Logistic Regression, Random Forest, and XGBoost. Each step in the process, from preprocessing to evaluation, is detailed for clarity."
   ]
  },
  {
   "cell_type": "markdown",
   "metadata": {},
   "source": [
    "## 1. Install Required Libraries"
   ]
  },
  {
   "cell_type": "code",
   "metadata": {},
   "source": [
    "!pip install nltk scikit-learn pandas\n",
    "!pip install spacy\n",
    "!python -m spacy download en_core_web_sm"
   ],
   "execution_count": null,
   "outputs": []
  },
  {
   "cell_type": "markdown",
   "metadata": {},
   "source": [
    "## 2. Import Necessary Libraries"
   ]
  },
  {
   "cell_type": "code",
   "metadata": {},
   "source": [
    "import spacy\n",
    "import pandas as pd\n",
    "from sklearn.model_selection import train_test_split, GridSearchCV\n",
    "from sklearn.feature_extraction.text import TfidfVectorizer\n",
    "from sklearn.svm import SVC\n",
    "from sklearn.metrics import accuracy_score, confusion_matrix, classification_report\n",
    "from sklearn.preprocessing import LabelEncoder\n",
    "from sklearn.linear_model import LogisticRegression\n",
    "from sklearn.ensemble import RandomForestClassifier\n",
    "import xgboost as xgb\n",
    "import joblib"
   ],
   "execution_count": null,
   "outputs": []
  },
  {
   "cell_type": "markdown",
   "metadata": {},
   "source": [
    "## 3. Load and Preprocess the Dataset"
   ]
  },
  {
   "cell_type": "code",
   "metadata": {},
   "source": [
    "# Load SpaCy model\n",
    "nlp = spacy.load('en_core_web_sm')\n",
    "\n",
    "# Dataset (sample data)\n",
    "data = {\n",
    "    'text': [\n",
    "        'I love this product!', 'This is the worst thing I have ever bought.',\n",
    "        'I am so happy with my purchase!', 'Not worth the money.', 'Great value for the price.'\n",
    "    ],\n",
    "    'sentiment': ['positive', 'negative', 'positive', 'negative', 'positive']\n",
    "}\n",
    "\n",
    "# Convert the 'sentiment' column to numeric labels\n",
    "label_encoder = LabelEncoder()\n",
    "data['sentiment'] = label_encoder.fit_transform(data['sentiment'])\n",
    "df = pd.DataFrame(data)\n",
    "\n",
    "# Split the dataset\n",
    "X = df['text']\n",
    "y = df['sentiment']\n",
    "X_train, X_test, y_train, y_test = train_test_split(X, y, test_size=0.2, random_state=42)\n",
    "\n",
    "# Text preprocessing\n",
    "def preprocess_text_spacy(text):\n",
    "    doc = nlp(text.lower())\n",
    "    return ' '.join([token.lemma_ for token in doc if token.is_alpha])\n",
    "\n",
    "X_train_cleaned = X_train.apply(preprocess_text_spacy)\n",
    "X_test_cleaned = X_test.apply(preprocess_text_spacy)"
   ],
   "execution_count": null,
   "outputs": []
  },
  {
   "cell_type": "markdown",
   "metadata": {},
   "source": [
    "## 4. Feature Extraction Using TF-IDF"
   ]
  },
  {
   "cell_type": "code",
   "metadata": {},
   "source": [
    "tfidf = TfidfVectorizer(max_features=5000)\n",
    "X_train_tfidf = tfidf.fit_transform(X_train_cleaned).toarray()\n",
    "X_test_tfidf = tfidf.transform(X_test_cleaned).toarray()"
   ],
   "execution_count": null,
   "outputs": []
  },
  {
   "cell_type": "markdown",
   "metadata": {},
   "source": [
    "## 5. Model Training and Evaluation"
   ]
  },
  {
   "cell_type": "code",
   "metadata": {},
   "source": [
    "# Example: Support Vector Machine (SVM)\n",
    "svm = SVC()\n",
    "svm.fit(X_train_tfidf, y_train)\n",
    "\n",
    "y_pred_svm = svm.predict(X_test_tfidf)\n",
    "print(\"SVM Accuracy:\", accuracy_score(y_test, y_pred_svm))"
   ],
   "execution_count": null,
   "outputs": []
  },
  {
   "cell_type": "markdown",
   "metadata": {},
   "source": [
    "## 6. Save Models and TF-IDF Vectorizer"
   ]
  },
  {
   "cell_type": "code",
   "metadata": {},
   "source": [
    "joblib.dump(svm, 'svm_model.pkl')\n",
    "joblib.dump(tfidf, 'tfidf_vectorizer.pkl')"
   ],
   "execution_count": null,
   "outputs": []
  },
  {
   "cell_type": "markdown",
   "metadata": {},
   "source": [
    "## 7. Prediction Function"
   ]
  },
  {
   "cell_type": "code",
   "metadata": {},
   "source": [
    "def predict_sentiment(text):\n",
    "    cleaned_text = preprocess_text_spacy(text)\n",
    "    features = tfidf.transform([cleaned_text]).toarray()\n",
    "    prediction = svm.predict(features)\n",
    "    return label_encoder.inverse_transform(prediction)[0]\n",
    "\n",
    "# Example usage\n",
    "text_input = \"I absolutely love this!\"\n",
    "print(\"Predicted Sentiment:\", predict_sentiment(text_input))"
   ],
   "execution_count": null,
   "outputs": []
  }
 ],
 "metadata": {
  "kernelspec": {
   "display_name": "Python 3",
   "language": "python",
   "name": "python3"
  },
  "language_info": {
   "codemirror_mode": {
    "name": "ipython",
    "version": 3
   },
   "file_extension": ".py",
   "mimetype": "text/x-python",
   "name": "python",
   "nbconvert_exporter": "python",
   "pygments_lexer": "ipython3",
   "version": "3.8.5"
  }
 },
 "nbformat": 4,
 "nbformat_minor": 5
}
